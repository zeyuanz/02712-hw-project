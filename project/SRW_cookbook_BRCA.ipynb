{
 "cells": [
  {
   "cell_type": "code",
   "execution_count": null,
   "metadata": {},
   "outputs": [],
   "source": [
    "%load_ext autoreload\n",
    "%autoreload 2"
   ]
  },
  {
   "cell_type": "code",
   "execution_count": null,
   "metadata": {},
   "outputs": [],
   "source": [
    "import pandas as pd\n",
    "import SRW_v044 as SRW\n",
    "import pickle"
   ]
  },
  {
   "cell_type": "code",
   "execution_count": null,
   "metadata": {},
   "outputs": [],
   "source": [
    "edges, features, node_names = SRW.load_network('data/BRCA_edge2features_2.txt')"
   ]
  },
  {
   "cell_type": "code",
   "execution_count": null,
   "metadata": {},
   "outputs": [],
   "source": [
    "P_init_train, sample_names_train = SRW.load_samples('data/BRCA_training_data_2.txt', node_names)"
   ]
  },
  {
   "cell_type": "code",
   "execution_count": null,
   "metadata": {},
   "outputs": [],
   "source": [
    "P_init_val, sample_names_val = SRW.load_samples('data/BRCA_validation_data_2.txt', node_names)"
   ]
  },
  {
   "cell_type": "code",
   "execution_count": null,
   "metadata": {},
   "outputs": [],
   "source": [
    "group_labels_train = SRW.load_grouplabels('data/BRCA_training_lables_2.txt')"
   ]
  },
  {
   "cell_type": "code",
   "execution_count": null,
   "metadata": {},
   "outputs": [],
   "source": [
    "group_labels_val = SRW.load_grouplabels('data/BRCA_validation_lables_2.txt')"
   ]
  },
  {
   "cell_type": "code",
   "execution_count": null,
   "metadata": {},
   "outputs": [],
   "source": [
    "nnodes = len(node_names)\n",
    "rst_prob = 0.3\n",
    "lam = 1e-1"
   ]
  },
  {
   "cell_type": "code",
   "execution_count": null,
   "metadata": {},
   "outputs": [],
   "source": [
    "feature_names = []\n",
    "with open('data/BRCA_feature_names_2.txt') as f:\n",
    "    for line in f.read().rstrip().splitlines():\n",
    "        feature_names.append(line)\n",
    "feature_names.append('selfloop')\n",
    "feature_names.append('intercept')"
   ]
  },
  {
   "cell_type": "code",
   "execution_count": null,
   "metadata": {
    "scrolled": true
   },
   "outputs": [],
   "source": [
    "import SRW_v044 as SRW\n",
    "\n",
    "SRW_obj = SRW.SRW_solver(edges, features, nnodes, P_init_train, rst_prob, group_labels_train, lam, \n",
    "                         w_init_sd=0.01, w=None, feature_names=feature_names, \n",
    "                         sample_names=sample_names_train, node_names=node_names, loss='WMW', \n",
    "                         norm_type='L1', learning_rate=0.2, update_w_func='Adam', \n",
    "                         P_init_val=P_init_val, group_labels_val=group_labels_val, ncpus=16, \n",
    "                         maxit=1000, early_stop=500, WMW_b=2e-4)"
   ]
  },
  {
   "cell_type": "markdown",
   "metadata": {},
   "source": [
    "### Arguments of SRW_solver objects  \n",
    "**edges** (e by 2, int, ndarray): Edges in the network  \n",
    "**features** (e by w, float, csc_matrix): Edge features  \n",
    "**nnodes** (int): Number of nodes in the network  \n",
    "**P_init** (m by n, float, csr_matrix): Initial state of samples (training set)  \n",
    "**rst_prob** (float): Reset probability of Random Walk  \n",
    "**group_labels** (m by 1, str/int, list): Group labels of samples (training set)   \n",
    "**lam** (float): Regularization parameter, controling the amount of L1/L2 norm  \n",
    "**w_init_sd** (float): Standard deviation for weight initialization (default 0.01)  \n",
    "**w** (w by 1, float, list): Initial weights (default None)  \n",
    "**feature_names** (w by 1, str, list): Feature names (default [])  \n",
    "**sample_names** (m by 1, str, list): Feature names (default [])  \n",
    "**node_names** (n by 1, str, list): Feature names (default [])  \n",
    "**loss** {'WMW'}: Type of the loss funtion (default 'WMW')  \n",
    "**norm_type** {'L1', 'L2'}: Type of the norm (derault 'L1')  \n",
    "**learning_rate** (float): Learning rate (default 0.1)  \n",
    "**update_w_func** {'momentum', 'Nesterov', 'Adam', 'Nadam'}: Function for updating parameters (default 'Adam')  \n",
    "**P_init_val** (m by n, float, csr_matrix): Initial state of samples (validation set) (default None)  \n",
    "**group_labels_val** (m by 1, str/int, list): Group labels of samples (validation set) (default None)  \n",
    "**ncpus** (int): Number of CPUs to use for multiprocess.Pool (default: -1, use all cpus)  \n",
    "**maxit** (int): Max number of iterations for training the model (default: 1000)  \n",
    "**early_stop** (int): Stop the learning if the performance doesn't improve in x iterations (default: None)  \n",
    "**WMW_b** (float): Parameter b in the WMW loss function (default: 2e-4)"
   ]
  },
  {
   "cell_type": "code",
   "execution_count": null,
   "metadata": {
    "scrolled": true
   },
   "outputs": [],
   "source": [
    "SRW_obj.train_SRW_GD()"
   ]
  },
  {
   "cell_type": "markdown",
   "metadata": {
    "collapsed": true
   },
   "source": [
    "# After convergence"
   ]
  },
  {
   "cell_type": "code",
   "execution_count": null,
   "metadata": {},
   "outputs": [],
   "source": [
    "# Output learned feature weights to a file\n",
    "SRW_obj.w_map.to_csv('data/BRCA_edge_feature_weights_2.txt', sep='\\t')"
   ]
  },
  {
   "cell_type": "code",
   "execution_count": null,
   "metadata": {},
   "outputs": [],
   "source": [
    "# Generate SRW_obj.Q_fin_df, the final transition matrix, \n",
    "# and SRW_obj.P_fin_df, the final propagated mutation profiles\n",
    "SRW_obj.generate_Q_and_P_fin()"
   ]
  },
  {
   "cell_type": "code",
   "execution_count": null,
   "metadata": {},
   "outputs": [],
   "source": [
    "# Save the object\n",
    "with open('data/SRW_obj_2', 'wb') as output:\n",
    "    pickle.dump(SRW_obj, output, pickle.HIGHEST_PROTOCOL)"
   ]
  },
  {
   "cell_type": "code",
   "execution_count": null,
   "metadata": {},
   "outputs": [],
   "source": []
  },
  {
   "cell_type": "code",
   "execution_count": null,
   "metadata": {},
   "outputs": [],
   "source": []
  },
  {
   "cell_type": "code",
   "execution_count": null,
   "metadata": {},
   "outputs": [],
   "source": []
  }
 ],
 "metadata": {
  "kernelspec": {
   "display_name": "Python 3",
   "language": "python",
   "name": "python3"
  },
  "language_info": {
   "codemirror_mode": {
    "name": "ipython",
    "version": 3
   },
   "file_extension": ".py",
   "mimetype": "text/x-python",
   "name": "python",
   "nbconvert_exporter": "python",
   "pygments_lexer": "ipython3",
   "version": "3.8.5"
  }
 },
 "nbformat": 4,
 "nbformat_minor": 2
}

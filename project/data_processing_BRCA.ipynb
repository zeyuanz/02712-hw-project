{
 "cells": [
  {
   "cell_type": "code",
   "execution_count": 2,
   "metadata": {
    "collapsed": true
   },
   "outputs": [],
   "source": [
    "import pandas as pd\n",
    "import numpy as np\n",
    "from scipy.stats import fisher_exact\n",
    "from multiprocessing import Pool, cpu_count\n",
    "import functools"
   ]
  },
  {
   "cell_type": "markdown",
   "metadata": {},
   "source": [
    "# Parse pathway features"
   ]
  },
  {
   "cell_type": "code",
   "execution_count": 7,
   "metadata": {
    "collapsed": true
   },
   "outputs": [],
   "source": [
    "entrez2symbol = {}\n",
    "with open('data/Homo_sapiens.gene_info') as f:\n",
    "    for line in f.read().splitlines():\n",
    "        row = line.split('\\t')\n",
    "        entrez2symbol[row[1]]=row[2]"
   ]
  },
  {
   "cell_type": "markdown",
   "metadata": {},
   "source": [
    "These are the pathways related to cancer hallmarks, which will be used as edge features.  \n",
    "Referance: http://www.cell.com/abstract/S0092-8674(11)00127-9"
   ]
  },
  {
   "cell_type": "code",
   "execution_count": 8,
   "metadata": {
    "collapsed": true
   },
   "outputs": [],
   "source": [
    "gene2pathway = {}\n",
    "pathways = set()\n",
    "with open('data/hallmarks.txt') as f:\n",
    "    for line in f.read().splitlines():\n",
    "        row = line.split('\\t')\n",
    "        if len(row) > 1:\n",
    "            pathway = row[0].split('|')[1]\n",
    "            pathways.add(pathway)\n",
    "            for entrez in row[2:]:\n",
    "                if entrez not in entrez2symbol:\n",
    "                    continue\n",
    "                gene = entrez2symbol[entrez]\n",
    "                if gene not in gene2pathway:\n",
    "                    gene2pathway[gene]=set()\n",
    "                gene2pathway[gene].add(pathway)"
   ]
  },
  {
   "cell_type": "markdown",
   "metadata": {},
   "source": [
    "# Parse TCGA BRCA subtypes"
   ]
  },
  {
   "cell_type": "code",
   "execution_count": 9,
   "metadata": {
    "collapsed": true
   },
   "outputs": [],
   "source": [
    "pat2subtype = {}\n",
    "def parse_subtypes(fn, pat2subtype):\n",
    "    with open(fn) as f:\n",
    "        for line in f.read().rstrip().splitlines()[1:]:\n",
    "            row = line.split(\"\\t\")\n",
    "            pat = row[0][:12]\n",
    "            if len(row[0])>12:\n",
    "                tissue_code = row[0][13:15]\n",
    "                if int(tissue_code) >= 10:\n",
    "                    continue\n",
    "            # Remove \"Normal\" subtype\n",
    "            if row[1] in ['NA', 'Normal']:\n",
    "                continue\n",
    "            pat2subtype[pat] = row[1]\n",
    "        return pat2subtype\n",
    "pat2subtype = parse_subtypes('data/TCGABRCA2PAM50_nature547.txt', pat2subtype)\n",
    "pat2subtype = parse_subtypes('data/TCGABRCA2PAM50_nature522.txt', pat2subtype)\n",
    "pat2subtype = parse_subtypes('data/TCGABRCA2PAM50_cell871.txt', pat2subtype)\n",
    "pat2subtype = parse_subtypes('data/TCGABRCA2PAM50_cell817.txt', pat2subtype)"
   ]
  },
  {
   "cell_type": "markdown",
   "metadata": {},
   "source": [
    "# Filter by cancer genes (optional)"
   ]
  },
  {
   "cell_type": "code",
   "execution_count": 10,
   "metadata": {
    "collapsed": true
   },
   "outputs": [],
   "source": [
    "oncogene_tsg={}\n",
    "with open('data/oncogene_tsg.txt') as f:\n",
    "    for line in f.read().rstrip().splitlines():\n",
    "        row = line.split(\"\\t\")\n",
    "        oncogene_tsg[row[0]] = row[1]\n",
    "with open('data/oncogene_tsg_BRCA.txt') as f:\n",
    "    for line in f.read().rstrip().splitlines():\n",
    "        row = line.split(\"\\t\")\n",
    "        oncogene_tsg[row[0]] = row[1]"
   ]
  },
  {
   "cell_type": "code",
   "execution_count": 11,
   "metadata": {},
   "outputs": [
    {
     "data": {
      "text/plain": [
       "2317"
      ]
     },
     "execution_count": 11,
     "metadata": {},
     "output_type": "execute_result"
    }
   ],
   "source": [
    "cancergenes = set() | set(oncogene_tsg.keys()) | set(gene2pathway.keys())\n",
    "with open('data/CGs.txt') as f:\n",
    "    for line in f.read().rstrip().splitlines():\n",
    "        cancergenes.add(line)\n",
    "with open('data/cancer_gene_census.csv') as f:\n",
    "    for line in f.read().rstrip().splitlines()[1:]:\n",
    "        row = line.split(',')\n",
    "        cancergenes.add(row[0])\n",
    "len(cancergenes)"
   ]
  },
  {
   "cell_type": "markdown",
   "metadata": {},
   "source": [
    "# Parse mutation and CNA profile"
   ]
  },
  {
   "cell_type": "markdown",
   "metadata": {},
   "source": [
    "Genes were classified as wild type (0) or altered (1) in each of the tumors with alterations defined as follows:\n",
    "1. Most oncogenes (e.g., EGFR) were considered altered (activated) if impacted by a missense mutation, in-frame indel or copy number amplification. \n",
    "2. For the subset of oncogenes typically altered only by amplification (CCND1, LMO1, MDM2, MDM4, MYC, MYCL, MYCN, NCOA3, NKX2-1 and SKP2), only copy number amplifications were considered as alterations and not SNVs or indels. \n",
    "3. Tumor suppressors (e.g., CDKN2A) were considered altered (inactivated) if there was any type of non-silent mutation or a copy number deletion.\n",
    "4. All other genes were considered altered if there was any type of non-silent mutation."
   ]
  },
  {
   "cell_type": "code",
   "execution_count": 7,
   "metadata": {
    "collapsed": true
   },
   "outputs": [],
   "source": [
    "def parse_maf(fn, oncogene_tsg):\n",
    "    df = pd.read_table(fn, low_memory=False)\n",
    "    df = df.loc[(df.loc[:,'is_flank']==0) & (df.loc[:,'is_silent']==0),:]\n",
    "    df['pat'] = df.loc[:,'Tumor_Sample_Barcode'].str[:12]\n",
    "    \n",
    "    filter_rows = []\n",
    "    genes = set()\n",
    "    for index, row in df.iterrows():\n",
    "        gene = row['Hugo_Symbol']\n",
    "        # (Optional) filter cancer genes\n",
    "        if gene not in cancergenes:\n",
    "            continue\n",
    "        genes.add(gene)\n",
    "        VC = row['Variant_Classification']\n",
    "        if gene in oncogene_tsg:\n",
    "            if oncogene_tsg[gene] in ['Oncogene']:\n",
    "                if VC not in ['Missense_Mutation', 'In_Frame_Del', 'In_Frame_Ins', 'De_novo_Start_InFrame']:\n",
    "                    filter_rows.append(index)\n",
    "            if oncogene_tsg[gene] == 'Amplification_Oncogene':\n",
    "                filter_rows.append(index)\n",
    "    df = df.drop(filter_rows)\n",
    "    \n",
    "    df = df.loc[:,['pat','Hugo_Symbol']]\n",
    "    df['counter'] = 1\n",
    "    df.set_index(['pat','Hugo_Symbol'], inplace=True)\n",
    "    df = df.counter.groupby(level=[0,1]).min().unstack()\n",
    "    df.fillna(0, inplace=True)\n",
    "    return df, genes"
   ]
  },
  {
   "cell_type": "code",
   "execution_count": 8,
   "metadata": {
    "collapsed": true
   },
   "outputs": [],
   "source": [
    "fn = '/cellar/data/users/wzhang1984/Firehose/Firehose__2016_01_28/analyses/BRCA/Mutation_Assessor/BRCA-TP.maf.annotated'\n",
    "df_mut, genes = parse_maf(fn, oncogene_tsg)"
   ]
  },
  {
   "cell_type": "code",
   "execution_count": 9,
   "metadata": {
    "collapsed": true,
    "scrolled": true
   },
   "outputs": [],
   "source": [
    "def parse_CNA(fn, genes):\n",
    "    df = pd.read_table(fn,low_memory=False,index_col=0)\n",
    "    df = df[df.index.isin(genes)]\n",
    "    # (Optional) filter cancer genes\n",
    "    df = df[df.index.isin(cancergenes)]\n",
    "    df = df.iloc[:,2:]\n",
    "    df = (df/2.).round(0)\n",
    "    df.columns = df.columns.str[:12]\n",
    "    \n",
    "    nonOncogene_rows = []\n",
    "    nonOGTSG_rows = []\n",
    "    for index, row in df.iterrows():\n",
    "        gene = index\n",
    "        if not (gene in oncogene_tsg and oncogene_tsg[gene] in ['Oncogene', 'Amplification_Oncogene']):\n",
    "            nonOncogene_rows.append(index)\n",
    "        if gene not in oncogene_tsg:\n",
    "            nonOGTSG_rows.append(index)\n",
    "    df.loc[nonOncogene_rows,:] = df.loc[nonOncogene_rows,:] * (-1)\n",
    "    df.loc[nonOGTSG_rows,:] = df.loc[nonOGTSG_rows,:] * (0)\n",
    "    df = df.clip(lower=0)\n",
    "    return df"
   ]
  },
  {
   "cell_type": "code",
   "execution_count": 10,
   "metadata": {
    "collapsed": true
   },
   "outputs": [],
   "source": [
    "coding_genes = set()\n",
    "with open(\"/cellar/data/users/wzhang1984/bcbio/genomes/Hsapiens/GRCh37/rnaseq-2014-07-14/ref-transcripts.gtf\") as f:\n",
    "    for line in f.read().splitlines():\n",
    "        row = line.split(\"\\t\")\n",
    "        if row[1] != \"protein_coding\" or row[2] != \"transcript\":\n",
    "            continue\n",
    "        gene_name = row[-1].split('gene_name \"')[1].split('\"')[0]\n",
    "        if gene_name:\n",
    "            coding_genes.add(gene_name)"
   ]
  },
  {
   "cell_type": "code",
   "execution_count": 11,
   "metadata": {
    "collapsed": true
   },
   "outputs": [],
   "source": [
    "coding_genes = coding_genes | genes"
   ]
  },
  {
   "cell_type": "code",
   "execution_count": 12,
   "metadata": {
    "collapsed": true
   },
   "outputs": [],
   "source": [
    "fn = '/cellar/data/users/wzhang1984/Firehose/Firehose__2016_01_28/analyses/BRCA/CopyNumber_Gistic2/all_thresholded.by_genes.txt'\n",
    "df_CNA = parse_CNA(fn, coding_genes)"
   ]
  },
  {
   "cell_type": "code",
   "execution_count": 13,
   "metadata": {
    "collapsed": true
   },
   "outputs": [],
   "source": [
    "df_mut_CNA = pd.concat([df_mut, df_CNA.transpose()], axis=1,\n",
    "                       join='inner').transpose().groupby(level=0).sum().clip(upper=1.).transpose()\n",
    "df_mut_CNA = df_mut_CNA.loc[set(df_mut.index) & set(df_CNA.columns) & set(pat2subtype.keys()),df_CNA.index]"
   ]
  },
  {
   "cell_type": "code",
   "execution_count": 14,
   "metadata": {},
   "outputs": [
    {
     "data": {
      "text/plain": [
       "(865, 2247)"
      ]
     },
     "execution_count": 14,
     "metadata": {},
     "output_type": "execute_result"
    }
   ],
   "source": [
    "df_mut_CNA = df_mut_CNA[(df_mut_CNA.T != 0).any()] # remove samples with all zeros\n",
    "df_mut_CNA.shape"
   ]
  },
  {
   "cell_type": "markdown",
   "metadata": {},
   "source": [
    "# Seperating training, validation and testing samples"
   ]
  },
  {
   "cell_type": "code",
   "execution_count": 15,
   "metadata": {
    "collapsed": true
   },
   "outputs": [],
   "source": [
    "training_set = df_mut_CNA.sample(frac=2./3)\n",
    "training_set.sort_index(inplace=True)"
   ]
  },
  {
   "cell_type": "code",
   "execution_count": 16,
   "metadata": {
    "collapsed": true
   },
   "outputs": [],
   "source": [
    "validation_set = df_mut_CNA.drop(training_set.index).sample(frac=1./2)\n",
    "validation_set.sort_index(inplace=True)"
   ]
  },
  {
   "cell_type": "code",
   "execution_count": 17,
   "metadata": {
    "collapsed": true
   },
   "outputs": [],
   "source": [
    "testing_set = df_mut_CNA.drop(training_set.index).drop(validation_set.index)\n",
    "testing_set.sort_index(inplace=True)"
   ]
  },
  {
   "cell_type": "markdown",
   "metadata": {},
   "source": [
    "# Or load existing datasets (Optional)"
   ]
  },
  {
   "cell_type": "code",
   "execution_count": 15,
   "metadata": {
    "collapsed": true
   },
   "outputs": [],
   "source": [
    "training_set = pd.read_table('data/archive/08182017/BRCA_training_data.txt', index_col=0)\n",
    "validation_set = pd.read_table('data/archive/08182017/BRCA_validation_data.txt', index_col=0)\n",
    "testing_set = pd.read_table('data/archive/08182017/BRCA_testing_data.txt', index_col=0)\n",
    "training_set = df_mut_CNA.loc[training_set.index,:]\n",
    "validation_set = df_mut_CNA.loc[validation_set.index,:]\n",
    "testing_set = df_mut_CNA.loc[testing_set.index,:]"
   ]
  },
  {
   "cell_type": "code",
   "execution_count": 80,
   "metadata": {
    "collapsed": true
   },
   "outputs": [],
   "source": [
    "# validation_set = pd.concat([validation_set, testing_set])"
   ]
  },
  {
   "cell_type": "markdown",
   "metadata": {},
   "source": [
    "# Filter by mutation number (optional)"
   ]
  },
  {
   "cell_type": "code",
   "execution_count": 16,
   "metadata": {
    "collapsed": true
   },
   "outputs": [],
   "source": [
    "recurrently_mutated_genes = training_set.loc[:,training_set.sum()>=4].columns"
   ]
  },
  {
   "cell_type": "code",
   "execution_count": 17,
   "metadata": {
    "collapsed": true
   },
   "outputs": [],
   "source": [
    "training_set = training_set.loc[:,recurrently_mutated_genes]\n",
    "validation_set = validation_set.loc[:,recurrently_mutated_genes]\n",
    "testing_set = testing_set.loc[:,recurrently_mutated_genes]"
   ]
  },
  {
   "cell_type": "code",
   "execution_count": 18,
   "metadata": {},
   "outputs": [
    {
     "name": "stdout",
     "output_type": "stream",
     "text": [
      "(577, 571) (145, 571) (141, 571)\n"
     ]
    }
   ],
   "source": [
    "training_set = training_set[(training_set.T != 0).any()]\n",
    "validation_set = validation_set[(validation_set.T != 0).any()]\n",
    "testing_set = testing_set[(testing_set.T != 0).any()]\n",
    "print training_set.shape, validation_set.shape, testing_set.shape"
   ]
  },
  {
   "cell_type": "markdown",
   "metadata": {},
   "source": [
    "# Fisher test against subtypes (Optional)"
   ]
  },
  {
   "cell_type": "code",
   "execution_count": 19,
   "metadata": {
    "scrolled": true
   },
   "outputs": [
    {
     "name": "stdout",
     "output_type": "stream",
     "text": [
      "PIK3CA LumA 2.26233552632 2.67560729279e-06 col_0   False  True \n",
      "PIK3CA              \n",
      "False     210    160\n",
      "True       76    131\n",
      "TERT Basal 7.87375415282 7.44572578713e-05 col_0  False  True \n",
      "TERT               \n",
      "False    474     86\n",
      "True       7     10\n",
      "PIK3R1 Basal 9.20542635659 3.55680473626e-05 col_0   False  True \n",
      "PIK3R1              \n",
      "False     475     86\n",
      "True        6     10\n",
      "MYC Basal 3.99594320487 8.13058771057e-09 col_0  False  True \n",
      "MYC                \n",
      "False    394     51\n",
      "True      87     45\n",
      "JAK2 Basal 11.3095238095 1.88468798796e-06 col_0  False  True \n",
      "JAK2               \n",
      "False    475     84\n",
      "True       6     12\n",
      "ABL1 Her2 32.5625 1.24706016277e-05 col_0  False  True \n",
      "ABL1               \n",
      "False    521     48\n",
      "True       2      6\n",
      "CCND1 LumB 2.53868471954 5.20177002838e-05 col_0  False  True \n",
      "CCND1              \n",
      "False    375     94\n",
      "True      66     42\n",
      "CDH1 LumA 5.00425531915 2.13126865029e-08 col_0  False  True \n",
      "CDH1               \n",
      "False    273    235\n",
      "True      13     56\n",
      "TP53 Basal 10.3362831858 2.58477413781e-22 col_0  False  True \n",
      "TP53               \n",
      "False    368     23\n",
      "True     113     73\n",
      "TP53 Her2 5.46308724832 9.61427672116e-09 col_0  False  True \n",
      "TP53               \n",
      "False    374     17\n",
      "True     149     37\n",
      "PER1 Her2 inf 6.9193470765e-05 col_0  False  True \n",
      "PER1               \n",
      "False    523     50\n",
      "True       0      4\n",
      "ERBB2 Her2 20.2090909091 1.45290256333e-21 col_0  False  True \n",
      "ERBB2              \n",
      "False    468     16\n",
      "True      55     38\n",
      "SPOP Her2 5.53058321479 4.3793795055e-06 col_0  False  True \n",
      "SPOP               \n",
      "False    486     38\n",
      "True      37     16\n",
      "STK11 Basal 21.7727272727 1.52973393164e-05 col_0  False  True \n",
      "STK11              \n",
      "False    479     88\n",
      "True       2      8\n",
      "CCNE1 Basal 8.04146341463 2.43840584989e-06 col_0  False  True \n",
      "CCNE1              \n",
      "False    471     82\n",
      "True      10     14\n"
     ]
    }
   ],
   "source": [
    "training_pat2subtype = training_set.index.to_series().map(pat2subtype)\n",
    "gene2fisherp = {}\n",
    "for gene in training_set.columns:\n",
    "    gene2fisherp[gene] = 0.\n",
    "#     gene2fisherp[gene] = {}\n",
    "    for subtype in training_pat2subtype.unique():\n",
    "        tab = pd.crosstab(training_set[gene]>0, training_pat2subtype==subtype)\n",
    "        if tab.shape != (2, 2):\n",
    "            continue\n",
    "        oddsratio, pvalue = fisher_exact(tab, alternative='greater')\n",
    "        logp = np.log10(pvalue)\n",
    "        gene2fisherp[gene] = max(-logp, gene2fisherp[gene])\n",
    "#         gene2fisherp[gene][subtype] = -logp\n",
    "        if pvalue < 0.05/len(training_set.index):\n",
    "            print gene, subtype, oddsratio, pvalue, tab"
   ]
  },
  {
   "cell_type": "markdown",
   "metadata": {},
   "source": [
    "# Parse PathwayCommons"
   ]
  },
  {
   "cell_type": "code",
   "execution_count": 3,
   "metadata": {
    "collapsed": true
   },
   "outputs": [],
   "source": [
    "PathwayCommons = pd.read_table('/cellar/users/wzhang1984/Data/PathwayCommons/PathwayCommons9.All.hgnc.txt')"
   ]
  },
  {
   "cell_type": "code",
   "execution_count": 4,
   "metadata": {
    "collapsed": true
   },
   "outputs": [],
   "source": [
    "PathwayCommons = PathwayCommons.loc[PathwayCommons.loc[:,'INTERACTION_TYPE'].isin(['controls-state-change-of',\n",
    "                                                                                   'controls-transport-of',\n",
    "                                                                                   'controls-phosphorylation-of',\n",
    "                                                                                   'controls-expression-of',\n",
    "                                                                                   'catalysis-precedes',\n",
    "                                                                                   'in-complex-with',\n",
    "                                                                                   'interacts-with', \n",
    "                                                                                   'neighbor-of']),:]"
   ]
  },
  {
   "cell_type": "code",
   "execution_count": 87,
   "metadata": {
    "collapsed": true,
    "scrolled": true
   },
   "outputs": [],
   "source": [
    "def parse_edge_features(mutrates, df):\n",
    "    edge2features = {}\n",
    "    for index, row in df.iterrows():\n",
    "        g1 = row['PARTICIPANT_A']\n",
    "        g2 = row['PARTICIPANT_B']\n",
    "        \n",
    "        # (Optionally) filter by cancer genes or pathways\n",
    "        if not (g1 in cancergenes and g2 in cancergenes):\n",
    "            continue\n",
    "\n",
    "        # (Optionally) filter by frequently mutated genes\n",
    "        if not (g1 in recurrently_mutated_genes and g2 in recurrently_mutated_genes):\n",
    "            continue\n",
    "            \n",
    "        ty = row['INTERACTION_TYPE']\n",
    "        ty_d = ty + '_d'\n",
    "        ty_rev = ty + '_rev'\n",
    "        sources = row['INTERACTION_DATA_SOURCE'].split(';')\n",
    "        edge = g1 + '\\t' + g2\n",
    "        edge_rev = g2 + '\\t' + g1\n",
    "        if edge not in edge2features:\n",
    "            edge2features[edge] = {'gene 1':g1, 'gene 2':g2}\n",
    "        if edge_rev not in edge2features:\n",
    "            edge2features[edge_rev] = {'gene 1':g2, 'gene 2':g1}\n",
    "\n",
    "        # Parse edge type features\n",
    "        if ty not in ['in-complex-with','interacts-with','neighbor-of']:\n",
    "            edge2features[edge][ty_d] = 1.\n",
    "            edge2features[edge_rev][ty_rev] = 1.\n",
    "        else:\n",
    "            edge2features[edge][ty] = 1.\n",
    "            edge2features[edge_rev][ty] = 1.\n",
    "\n",
    "        # Parse edge source features\n",
    "        for source in sources:\n",
    "            edge2features[edge][source] = 1.\n",
    "            edge2features[edge_rev][source] = 1.\n",
    "\n",
    "        # Parse pathway features. \n",
    "        # If one node is in the pathway, the score is 0.5\n",
    "        # If both nodes are in the pathway, the score is 1\n",
    "        if g1 in gene2pathway or g2 in gene2pathway:\n",
    "            for pathway in pathways:\n",
    "                edge2features[edge][pathway] = 0.\n",
    "                edge2features[edge_rev][pathway] = 0.\n",
    "            for g in [g1, g2]:\n",
    "                if g in gene2pathway:\n",
    "                    for pathway in gene2pathway[g]:\n",
    "                        edge2features[edge][pathway] += 0.5\n",
    "                        edge2features[edge_rev][pathway] += 0.5\n",
    "\n",
    "        # Parse mutation features from the training set\n",
    "        # Calculate mutation rates\n",
    "        mutrate_g1 = 0\n",
    "        mutrate_g2 = 0\n",
    "        if g1 in training_set:\n",
    "            mutrate_g1 = mutrates.loc[g1]\n",
    "        if g2 in training_set:\n",
    "            mutrate_g2 = mutrates.loc[g2]\n",
    "        edge2features[edge]['mutrate_source'] = mutrate_g1\n",
    "        edge2features[edge]['mutrate_target'] = mutrate_g2\n",
    "        edge2features[edge_rev]['mutrate_source'] = mutrate_g2\n",
    "        edge2features[edge_rev]['mutrate_target'] = mutrate_g1\n",
    "\n",
    "        # (optional) add fisher test against subtypes\n",
    "        if g1 in gene2fisherp:\n",
    "            edge2features[edge]['fisherp_source'] = gene2fisherp[g1]\n",
    "            edge2features[edge_rev]['fisherp_target'] = gene2fisherp[g1]\n",
    "#             for subtype in gene2fisherp[g1]:\n",
    "#                 edge2features[edge]['{}_source'.format(subtype)] = gene2fisherp[g1][subtype]\n",
    "#                 edge2features[edge_rev]['{}_target'.format(subtype)] = gene2fisherp[g1][subtype]\n",
    "        if g2 in gene2fisherp:\n",
    "            edge2features[edge]['fisherp_target'] = gene2fisherp[g2]\n",
    "            edge2features[edge_rev]['fisherp_source'] = gene2fisherp[g2]\n",
    "#             for subtype in gene2fisherp[g2]:\n",
    "#                 edge2features[edge]['{}_target'.format(subtype)] = gene2fisherp[g2][subtype]\n",
    "#                 edge2features[edge_rev]['{}_source'.format(subtype)] = gene2fisherp[g2][subtype]\n",
    "\n",
    "        # Calculate mutual exclusivity / co-occurrence\n",
    "        ME = 0.\n",
    "        if g1 in training_set and g2 in training_set:\n",
    "            if training_set.loc[:,g1].sum() < 4 or training_set.loc[:,g2].sum() < 4:\n",
    "                continue\n",
    "            tab = pd.crosstab(training_set.loc[:,g1],training_set.loc[:,g2])\n",
    "            if tab.shape != (2, 2):\n",
    "                continue\n",
    "            if tab.iloc[1,1] * tab.iloc[0,0] >= tab.iloc[0,1] * tab.iloc[1,0]:\n",
    "                continue\n",
    "            oddsratio, pvalue = fisher_exact(tab, alternative='less')\n",
    "            logp = np.log10(pvalue)\n",
    "            ME = -logp\n",
    "            if pvalue < 0.05:\n",
    "                print g1, g2, oddsratio, pvalue\n",
    "        edge2features[edge]['mutual_exclusive'] = ME\n",
    "        edge2features[edge_rev]['mutual_exclusive'] = ME\n",
    "            \n",
    "    return edge2features"
   ]
  },
  {
   "cell_type": "code",
   "execution_count": 88,
   "metadata": {
    "scrolled": true
   },
   "outputs": [
    {
     "name": "stdout",
     "output_type": "stream",
     "text": [
      "MDM4 TP53 0.477810650888 0.005231023613\n",
      "MDM4 TP53 0.477810650888 0.005231023613\n",
      "MDM4 TP53 0.477810650888 0.005231023613\n",
      "MDM4 TP53 0.477810650888 0.005231023613\n",
      "MYC RUNX1 0.269871794872 0.0401770001174\n",
      "CCND1 RB1 0.315018315018 0.0281418792394\n",
      "CCND1 RB1 0.315018315018 0.0281418792394\n",
      "CCND1 RB1 0.315018315018 0.0281418792394\n",
      "PTEN PIK3CA 0.266162790698 0.000323343328492\n",
      "PTEN PIK3CA 0.266162790698 0.000323343328492\n",
      "TP53 MDM4 0.477810650888 0.005231023613\n",
      "CDH1 IGF1R 0.18720190779 0.043663639563\n",
      "ERBB2 PTEN 0.199633699634 0.00660876114465\n",
      "PIK3CA PTEN 0.266162790698 0.000323343328492\n",
      "PIK3CA RB1 0.464187327824 0.0283305546911\n",
      "PIK3R1 CCND1 0.0 0.0345723262897\n"
     ]
    }
   ],
   "source": [
    "training_set_mutrate = training_set.sum() / training_set.shape[0]\n",
    "\n",
    "n_processes = cpu_count()\n",
    "pool = Pool(processes=n_processes)\n",
    "\n",
    "df_split = np.array_split(PathwayCommons, n_processes, axis=0)\n",
    "parse_edge_features_partial = functools.partial(parse_edge_features, training_set_mutrate)\n",
    "edge2features_list = pool.map(parse_edge_features_partial, df_split)\n",
    "\n",
    "pool.close()\n",
    "pool.join()"
   ]
  },
  {
   "cell_type": "code",
   "execution_count": 89,
   "metadata": {
    "collapsed": true
   },
   "outputs": [],
   "source": [
    "import collections\n",
    "\n",
    "def update(d, u):\n",
    "    for k, v in u.iteritems():\n",
    "        if isinstance(v, collections.Mapping):\n",
    "            r = update(d.get(k, {}), v)\n",
    "            d[k] = r\n",
    "        else:\n",
    "            d[k] = u[k]\n",
    "    return d"
   ]
  },
  {
   "cell_type": "code",
   "execution_count": 90,
   "metadata": {
    "collapsed": true
   },
   "outputs": [],
   "source": [
    "edge2features = {}\n",
    "for i in range(len(edge2features_list)):\n",
    "    update(edge2features, edge2features_list[i])"
   ]
  },
  {
   "cell_type": "code",
   "execution_count": 91,
   "metadata": {
    "collapsed": true
   },
   "outputs": [],
   "source": [
    "edge2features_df = pd.DataFrame.from_dict(edge2features, orient='index')"
   ]
  },
  {
   "cell_type": "code",
   "execution_count": 92,
   "metadata": {
    "collapsed": true
   },
   "outputs": [],
   "source": [
    "edge2features_df = edge2features_df.fillna(0).sort_index(1)\n",
    "cols = list(edge2features_df)\n",
    "cols.insert(0, cols.pop(cols.index('gene 2')))\n",
    "cols.insert(0, cols.pop(cols.index('gene 1')))\n",
    "edge2features_df = edge2features_df[cols]"
   ]
  },
  {
   "cell_type": "markdown",
   "metadata": {},
   "source": [
    "# Add high mutrate and high degree features (Optional)"
   ]
  },
  {
   "cell_type": "code",
   "execution_count": 93,
   "metadata": {
    "collapsed": true
   },
   "outputs": [],
   "source": [
    "# # Top 5 genes with the highest degree\n",
    "# geneset = set(edge2features_df.groupby('gene 1')['gene 2'].count().sort_values()[-5:].index)\n",
    "\n",
    "# Top 5 genes with the highset mutation rate\n",
    "geneset = set(training_set.sum().sort_values()[-5:].index)"
   ]
  },
  {
   "cell_type": "code",
   "execution_count": 94,
   "metadata": {
    "collapsed": true
   },
   "outputs": [],
   "source": [
    "for gene in sorted(geneset):\n",
    "    edge2features_df[gene+'_source'] = (edge2features_df['gene 1']==gene).astype(int)\n",
    "    edge2features_df[gene+'_target'] = (edge2features_df['gene 2']==gene).astype(int)"
   ]
  },
  {
   "cell_type": "code",
   "execution_count": 95,
   "metadata": {
    "collapsed": true
   },
   "outputs": [],
   "source": [
    "edge2features_df = edge2features_df.fillna(0).sort_index(1)\n",
    "cols = list(edge2features_df)\n",
    "cols.insert(0, cols.pop(cols.index('gene 2')))\n",
    "cols.insert(0, cols.pop(cols.index('gene 1')))\n",
    "edge2features_df = edge2features_df[cols]"
   ]
  },
  {
   "cell_type": "markdown",
   "metadata": {},
   "source": [
    "# Feature scaling (Optional)"
   ]
  },
  {
   "cell_type": "code",
   "execution_count": 96,
   "metadata": {
    "collapsed": true
   },
   "outputs": [],
   "source": [
    "edge2features_df.iloc[:,2:] = edge2features_df.iloc[:,2:].divide(edge2features_df.iloc[:,2:].max())\n",
    "edge2features_df.dropna(axis=1, inplace=True)"
   ]
  },
  {
   "cell_type": "markdown",
   "metadata": {},
   "source": [
    "# Output dataframes to files"
   ]
  },
  {
   "cell_type": "code",
   "execution_count": 97,
   "metadata": {
    "collapsed": true
   },
   "outputs": [],
   "source": [
    "training_set.to_csv('data/BRCA_training_data_2.txt', sep='\\t')\n",
    "validation_set.to_csv('data/BRCA_validation_data_2.txt', sep='\\t')\n",
    "testing_set.to_csv('data/BRCA_testing_data_2.txt', sep='\\t')"
   ]
  },
  {
   "cell_type": "code",
   "execution_count": 98,
   "metadata": {
    "collapsed": true
   },
   "outputs": [],
   "source": [
    "training_set.index.to_series().map(pat2subtype).to_csv('data/BRCA_training_lables_2.txt', sep='\\t')\n",
    "validation_set.index.to_series().map(pat2subtype).to_csv('data/BRCA_validation_lables_2.txt', sep='\\t')\n",
    "testing_set.index.to_series().map(pat2subtype).to_csv('data/BRCA_testing_lables_2.txt', sep='\\t')"
   ]
  },
  {
   "cell_type": "code",
   "execution_count": 99,
   "metadata": {
    "collapsed": true
   },
   "outputs": [],
   "source": [
    "edge2features_df.to_csv('data/BRCA_edge2features_2.txt', sep='\\t', header=False, index=False)"
   ]
  },
  {
   "cell_type": "code",
   "execution_count": 100,
   "metadata": {
    "collapsed": true
   },
   "outputs": [],
   "source": [
    "with open('data/BRCA_feature_names_2.txt', 'w') as f:\n",
    "    f.write('\\n'.join(edge2features_df.columns[2:]))"
   ]
  },
  {
   "cell_type": "markdown",
   "metadata": {
    "collapsed": true
   },
   "source": [
    "# Scratch"
   ]
  },
  {
   "cell_type": "code",
   "execution_count": 101,
   "metadata": {
    "scrolled": true
   },
   "outputs": [
    {
     "data": {
      "text/plain": [
       "gene 1                                      PIK3CA\n",
       "gene 2                                        TP53\n",
       "Adherens junction                                0\n",
       "Apoptosis                                        1\n",
       "B cell receptor signaling pathway              0.5\n",
       "BIND                                             0\n",
       "Base excision repair                             0\n",
       "BioGRID                                          0\n",
       "CCND1_source                                     0\n",
       "CCND1_target                                     0\n",
       "CORUM                                            0\n",
       "CTD                                              1\n",
       "Cell cycle                                     0.5\n",
       "Cytokine-cytokine receptor interaction           0\n",
       "DIP                                              0\n",
       "ECM-receptor interaction                         0\n",
       "ERBB2_source                                     0\n",
       "ERBB2_target                                     0\n",
       "ESC proliferation                              0.5\n",
       "Epithelial-mesenchymal transition              0.5\n",
       "ErbB signaling pathway                         0.5\n",
       "Focal adhesion                                 0.5\n",
       "Glycolysis / Gluconeogenesis                     0\n",
       "HPRD                                             0\n",
       "HumanCyc                                         0\n",
       "INOH                                             0\n",
       "IntAct                                           0\n",
       "Jak-STAT signaling pathway                     0.5\n",
       "KEGG                                             0\n",
       "MAPK signaling pathway                         0.5\n",
       "                                            ...   \n",
       "SMPDB                                            0\n",
       "T cell receptor signaling pathway              0.5\n",
       "TGF-beta signaling pathway                       0\n",
       "TP53_source                                      0\n",
       "TP53_target                                      1\n",
       "VEGF signaling pathway                         0.5\n",
       "WikiPathways                                     0\n",
       "Wnt signaling pathway                          0.5\n",
       "catalysis-precedes_d                             0\n",
       "catalysis-precedes_rev                           0\n",
       "controls-expression-of_d                         0\n",
       "controls-expression-of_rev                       0\n",
       "controls-phosphorylation-of_d                    0\n",
       "controls-phosphorylation-of_rev                  0\n",
       "controls-state-change-of_d                       0\n",
       "controls-state-change-of_rev                     1\n",
       "controls-transport-of_d                          0\n",
       "controls-transport-of_rev                        0\n",
       "fisherp_source                            0.258138\n",
       "fisherp_target                                   1\n",
       "in-complex-with                                  0\n",
       "inflammatory response                            0\n",
       "interacts-with                                   0\n",
       "mTOR signaling pathway                         0.5\n",
       "mutrate_source                                   1\n",
       "mutrate_target                            0.898551\n",
       "mutual_exclusive                          0.223552\n",
       "p53 signaling pathway                          0.5\n",
       "pid                                              0\n",
       "telomere maintenance                             0\n",
       "Name: PIK3CA\\tTP53, Length: 76, dtype: object"
      ]
     },
     "execution_count": 101,
     "metadata": {},
     "output_type": "execute_result"
    }
   ],
   "source": [
    "edge2features_df.loc['PIK3CA\\tTP53',:]"
   ]
  },
  {
   "cell_type": "code",
   "execution_count": 105,
   "metadata": {
    "scrolled": true
   },
   "outputs": [
    {
     "data": {
      "text/plain": [
       "Gene Symbol\n",
       "PIK3CA      207.0\n",
       "TP53        186.0\n",
       "MYC         132.0\n",
       "CCND1       108.0\n",
       "ERBB2        93.0\n",
       "AKT3         86.0\n",
       "MDM4         85.0\n",
       "H3F3A        83.0\n",
       "CDH1         69.0\n",
       "IKBKB        64.0\n",
       "GATA3        63.0\n",
       "SPOP         53.0\n",
       "MAP3K1       50.0\n",
       "PTEN         50.0\n",
       "PAK1         48.0\n",
       "RB1          42.0\n",
       "GNAS         40.0\n",
       "IGF1R        38.0\n",
       "MAP2K4       38.0\n",
       "SRSF2        37.0\n",
       "NCOR1        26.0\n",
       "RUNX1        26.0\n",
       "CDKN2A       24.0\n",
       "CCNE1        24.0\n",
       "NCOA3        24.0\n",
       "ATM          22.0\n",
       "NF1          22.0\n",
       "SPEN         21.0\n",
       "IDH2         20.0\n",
       "ARID1B       20.0\n",
       "            ...  \n",
       "IL4R          4.0\n",
       "LY75          4.0\n",
       "NFATC3        4.0\n",
       "PAX5          4.0\n",
       "PER1          4.0\n",
       "DOCK1         4.0\n",
       "ANAPC1        4.0\n",
       "RHOT1         4.0\n",
       "RAPGEF1       4.0\n",
       "USP8          4.0\n",
       "EPHA4         4.0\n",
       "CASC5         4.0\n",
       "NFKBIZ        4.0\n",
       "NCOR2         4.0\n",
       "ROBO2         4.0\n",
       "WASF3         4.0\n",
       "SMAD9         4.0\n",
       "ITGA8         4.0\n",
       "NFATC4        4.0\n",
       "PARP3         4.0\n",
       "RBM5          4.0\n",
       "RHOA          4.0\n",
       "SOS2          4.0\n",
       "GPHN          4.0\n",
       "ZFP36L1       4.0\n",
       "IRAK2         4.0\n",
       "HMMR          4.0\n",
       "CACNA2D1      4.0\n",
       "DKC1          4.0\n",
       "COL1A2        4.0\n",
       "Length: 571, dtype: float64"
      ]
     },
     "execution_count": 105,
     "metadata": {},
     "output_type": "execute_result"
    }
   ],
   "source": [
    "training_set.sum().sort_values()[::-1]"
   ]
  },
  {
   "cell_type": "code",
   "execution_count": 103,
   "metadata": {
    "scrolled": true
   },
   "outputs": [
    {
     "data": {
      "text/plain": [
       "interacts-with                       6338.000000\n",
       "Pathways in cancer                   5397.000000\n",
       "in-complex-with                      4780.000000\n",
       "Reactome                             4390.000000\n",
       "Focal adhesion                       4273.000000\n",
       "BioGRID                              3398.000000\n",
       "HPRD                                 2916.000000\n",
       "controls-state-change-of_rev         2840.000000\n",
       "controls-state-change-of_d           2840.000000\n",
       "IntAct                               2600.000000\n",
       "MAPK signaling pathway               2579.000000\n",
       "ErbB signaling pathway               2535.000000\n",
       "PANTHER                              2490.000000\n",
       "pid                                  2122.000000\n",
       "Jak-STAT signaling pathway           1991.000000\n",
       "INOH                                 1728.000000\n",
       "T cell receptor signaling pathway    1660.000000\n",
       "Cell cycle                           1639.000000\n",
       "Adherens junction                    1566.000000\n",
       "ESC proliferation                    1549.000000\n",
       "ECM-receptor interaction             1541.000000\n",
       "B cell receptor signaling pathway    1411.000000\n",
       "VEGF signaling pathway               1384.000000\n",
       "CTD                                  1356.000000\n",
       "Wnt signaling pathway                1253.000000\n",
       "Apoptosis                            1223.000000\n",
       "MSigDB                               1200.000000\n",
       "mutrate_target                       1174.618357\n",
       "mutrate_source                       1174.618357\n",
       "fisherp_target                       1170.767516\n",
       "                                        ...     \n",
       "CORUM                                 744.000000\n",
       "p53 signaling pathway                 710.000000\n",
       "DIP                                   698.000000\n",
       "BIND                                  618.000000\n",
       "NetPath                               506.000000\n",
       "PhosphoSite                           396.000000\n",
       "PPAR signaling pathway                292.000000\n",
       "controls-transport-of_rev             240.000000\n",
       "controls-transport-of_d               240.000000\n",
       "telomere maintenance                  239.000000\n",
       "MYC_source                            176.000000\n",
       "MYC_target                            176.000000\n",
       "TP53_target                           176.000000\n",
       "TP53_source                           176.000000\n",
       "mutual_exclusive                      172.594866\n",
       "Mismatch repair                       148.000000\n",
       "Nucleotide excision repair            146.000000\n",
       "PIK3CA_source                         125.000000\n",
       "PIK3CA_target                         125.000000\n",
       "Multi-Drug Resistance Factors         122.000000\n",
       "Recon X                                90.000000\n",
       "ERBB2_source                           89.000000\n",
       "ERBB2_target                           89.000000\n",
       "Glycolysis / Gluconeogenesis           89.000000\n",
       "Base excision repair                   74.000000\n",
       "WikiPathways                           60.000000\n",
       "CCND1_target                           44.000000\n",
       "CCND1_source                           44.000000\n",
       "SMPDB                                  38.000000\n",
       "KEGG                                   14.000000\n",
       "Length: 74, dtype: float64"
      ]
     },
     "execution_count": 103,
     "metadata": {},
     "output_type": "execute_result"
    }
   ],
   "source": [
    "edge2features_df.iloc[:,2:].sum().sort_values()[::-1]"
   ]
  },
  {
   "cell_type": "code",
   "execution_count": null,
   "metadata": {
    "collapsed": true
   },
   "outputs": [],
   "source": []
  },
  {
   "cell_type": "code",
   "execution_count": null,
   "metadata": {
    "collapsed": true
   },
   "outputs": [],
   "source": []
  }
 ],
 "metadata": {
  "kernelspec": {
   "display_name": "Python 2",
   "language": "python",
   "name": "python2"
  },
  "language_info": {
   "codemirror_mode": {
    "name": "ipython",
    "version": 2
   },
   "file_extension": ".py",
   "mimetype": "text/x-python",
   "name": "python",
   "nbconvert_exporter": "python",
   "pygments_lexer": "ipython2",
   "version": "2.7.13"
  }
 },
 "nbformat": 4,
 "nbformat_minor": 2
}

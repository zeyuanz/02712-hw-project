{
 "cells": [
  {
   "cell_type": "markdown",
   "metadata": {},
   "source": [
    "# Equations (v0.4.4)"
   ]
  },
  {
   "cell_type": "markdown",
   "metadata": {},
   "source": [
    "## 1. Forward pass"
   ]
  },
  {
   "cell_type": "markdown",
   "metadata": {},
   "source": [
    "#### 1.1 Edge activation score:  \n",
    "# $a_{ij}=\\frac{1}{1+\\exp(-w^Tx_{ij})}$"
   ]
  },
  {
   "cell_type": "markdown",
   "metadata": {},
   "source": [
    "#### 1.2 Transition matrix (network):  \n",
    "# $Q_{ij}=\\frac{a_{ij}}{\\sum_k a_{ik}}$"
   ]
  },
  {
   "cell_type": "markdown",
   "metadata": {},
   "source": [
    "#### 1.3 Random Walk:  \n",
    "# $P^{(t+1)}=(1-\\alpha)P^{(t)}Q+\\alpha P^{(0)}$"
   ]
  },
  {
   "cell_type": "markdown",
   "metadata": {
    "collapsed": true
   },
   "source": [
    "#### 1.4 Objective function:  \n",
    "# $\\min\\limits_w J(w)=\\lambda\\|w\\|_1+\\sum_u \\frac{1}{1+\\exp(-\\beta D_u)}$\n",
    "where  \n",
    "# $D_u=(\\frac{m_a}{m_a-1})^2\\|p_u-c_a\\|^2-\\|p_u-c_b\\|^2$\n",
    "$c_a$ is the true group centroid of $p_u$, $c_b$ is its nearest neighboring group center,  \n",
    "and $m_a$ is the number of samples in group $a$."
   ]
  },
  {
   "cell_type": "code",
   "execution_count": null,
   "metadata": {
    "collapsed": true
   },
   "outputs": [],
   "source": []
  },
  {
   "cell_type": "markdown",
   "metadata": {
    "collapsed": true
   },
   "source": [
    "## 2. Back propagation:  \n",
    "### Partial derivatives with respective to edge feature weights"
   ]
  },
  {
   "cell_type": "markdown",
   "metadata": {},
   "source": [
    "#### 2.1 Edge activation score:  \n",
    "# $\\frac{\\partial a_{ij}}{\\partial w_l}=x_{ijl}a_{ij}(1-a_{ij})$"
   ]
  },
  {
   "cell_type": "markdown",
   "metadata": {},
   "source": [
    "#### 2.2 Transition matrix (network):  \n",
    "# $\\frac{\\partial Q_{ij}}{\\partial w_l}=\\frac{\\frac{\\partial a_{ij}}{\\partial w_l}\\sum_k a_{ik}-a_{ij}\\sum_k \\frac{\\partial a_{ik}}{\\partial w_l}}{(\\sum_k a_{ik})^2}$"
   ]
  },
  {
   "cell_type": "markdown",
   "metadata": {},
   "source": [
    "#### 2.3 Random Walk scores:\n",
    "# $\\frac{\\partial P}{\\partial w_l}^{(t+1)}=(1-\\alpha)(\\frac{\\partial P}{\\partial w_l}^{(t)}Q+P\\frac{\\partial Q}{\\partial w_l})$"
   ]
  },
  {
   "cell_type": "markdown",
   "metadata": {
    "collapsed": true
   },
   "source": [
    "#### 2.4 Objective function:  \n",
    "# $\\frac{\\partial F(w)}{\\partial w_l}=sign(w_l)\\lambda+\\sum_u \\beta J(w)(1-J(w))\\frac{\\partial D_u}{\\partial w_l}$\n",
    "where  \n",
    "## $\\frac{\\partial D_u}{\\partial w_l}=2(\\frac{m_a}{m_a-1})^2(p_u-c_a)^T(\\frac{\\partial p_u}{\\partial w_l}-\\frac{\\partial c_a}{\\partial w_l})-2(p_u-c_b)^T(\\frac{\\partial p_u}{\\partial w_l}-\\frac{\\partial c_b}{\\partial w_l})$\n",
    "$c_a$ is the true group centroid of $p_u$, $c_b$ is its nearest neighboring group center,  \n",
    "and $m_a$ is the number of samples in group $a$."
   ]
  },
  {
   "cell_type": "code",
   "execution_count": null,
   "metadata": {
    "collapsed": true
   },
   "outputs": [],
   "source": []
  },
  {
   "cell_type": "code",
   "execution_count": null,
   "metadata": {
    "collapsed": true
   },
   "outputs": [],
   "source": []
  },
  {
   "cell_type": "code",
   "execution_count": null,
   "metadata": {
    "collapsed": true
   },
   "outputs": [],
   "source": []
  },
  {
   "cell_type": "code",
   "execution_count": null,
   "metadata": {
    "collapsed": true
   },
   "outputs": [],
   "source": []
  }
 ],
 "metadata": {
  "kernelspec": {
   "display_name": "Python 2",
   "language": "python",
   "name": "python2"
  },
  "language_info": {
   "codemirror_mode": {
    "name": "ipython",
    "version": 2
   },
   "file_extension": ".py",
   "mimetype": "text/x-python",
   "name": "python",
   "nbconvert_exporter": "python",
   "pygments_lexer": "ipython2",
   "version": "2.7.13"
  }
 },
 "nbformat": 4,
 "nbformat_minor": 2
}
